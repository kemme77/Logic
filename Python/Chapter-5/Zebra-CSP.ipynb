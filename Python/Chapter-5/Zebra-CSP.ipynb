{
 "cells": [
  {
   "cell_type": "code",
   "execution_count": 1,
   "metadata": {},
   "outputs": [
    {
     "data": {
      "text/html": [
       "<link href='http://fonts.googleapis.com/css?family=Alegreya+Sans:100,300,400,500,700,800,900,100italic,300italic,400italic,500italic,700italic,800italic,900italic' rel='stylesheet' type='text/css'>\n",
       "<link href='http://fonts.googleapis.com/css?family=Arvo:400,700,400italic' rel='stylesheet' type='text/css'>\n",
       "<link href='http://fonts.googleapis.com/css?family=PT+Mono' rel='stylesheet' type='text/css'>\n",
       "<link href='http://fonts.googleapis.com/css?family=Shadows+Into+Light' rel='stylesheet' type='text/css'>\n",
       "<link href='http://fonts.googleapis.com/css?family=Philosopher:400,700,400italic,700italic' rel='stylesheet' type='text/css'>\n",
       "\n",
       "<style>\n",
       "\n",
       "@font-face {\n",
       "    font-family: \"Computer Modern\";\n",
       "    src: url('http://mirrors.ctan.org/fonts/cm-unicode/fonts/otf/cmunss.otf');\n",
       "}\n",
       "\n",
       ".container { width: 100% }\n",
       "\n",
       "/* Formatting for header cells */\n",
       ".text_cell_render h1 {\n",
       "    font-family: 'Philosopher', sans-serif;\n",
       "    font-weight: 400;\n",
       "    font-size: 2.2em;\n",
       "    line-height: 100%;\n",
       "    color: rgb(0, 80, 120);\n",
       "    margin-bottom: 0.1em;\n",
       "    margin-top: 0.1em;\n",
       "    display: block;\n",
       "}\t\n",
       ".text_cell_render h2 {\n",
       "    font-family: 'Philosopher', serif;\n",
       "    font-weight: 400;\n",
       "    font-size: 1.9em;\n",
       "    line-height: 100%;\n",
       "    color: rgb(200,100,0);\n",
       "    margin-bottom: 0.1em;\n",
       "    margin-top: 0.1em;\n",
       "    display: block;\n",
       "}\t\n",
       "\n",
       ".text_cell_render h3 {\n",
       "    font-family: 'Philosopher', serif;\n",
       "    margin-top:12px;\n",
       "    margin-bottom: 3px;\n",
       "    font-style: italic;\n",
       "    color: rgb(94,127,192);\n",
       "}\n",
       "\n",
       ".text_cell_render h4 {\n",
       "    font-family: 'Philosopher', serif;\n",
       "}\n",
       "\n",
       ".text_cell_render h5 {\n",
       "    font-family: 'Alegreya Sans', sans-serif;\n",
       "    font-weight: 300;\n",
       "    font-size: 16pt;\n",
       "    color: grey;\n",
       "    font-style: italic;\n",
       "    margin-bottom: .1em;\n",
       "    margin-top: 0.1em;\n",
       "    display: block;\n",
       "}\n",
       "\n",
       ".text_cell_render h6 {\n",
       "    font-family: 'PT Mono', sans-serif;\n",
       "    font-weight: 300;\n",
       "    font-size: 10pt;\n",
       "    color: grey;\n",
       "    margin-bottom: 1px;\n",
       "    margin-top: 1px;\n",
       "}\n",
       "\n",
       ".text_cell_render em {\n",
       "    font-family: 'Philosopher', sans-serif;\n",
       "    color:        blue;\n",
       "    background-color: rgb(255,220,180);\n",
       "    font-size:    110%;\n",
       "    margin-left:   2px;\n",
       "    margin-right:  2px;\n",
       "    font-weight:   100;\n",
       "}\n",
       "\n",
       ".text_cell_render b {\n",
       "    color:            rgb(255,195,195);\n",
       "    background-color: rgb(0,0,0);\n",
       "    font-size:    110%;\n",
       "    margin-left:   2px;\n",
       "    margin-right:  2px;\n",
       "    font-weight:   650;\n",
       "}\n",
       "\n",
       ".text_cell_render tt {\n",
       "    font-size:    120%;\n",
       "    margin-left:   2px;\n",
       "    margin-right:  2px;\n",
       "    font-weight:   150;\n",
       "}\n",
       "\n",
       ".Codemirror {\n",
       "    font-family: \"PT Mono\";\n",
       "    font-size: 100%;\n",
       "}\n",
       "\n",
       "</style>\n",
       "\n"
      ],
      "text/plain": [
       "<IPython.core.display.HTML object>"
      ]
     },
     "execution_count": 1,
     "metadata": {},
     "output_type": "execute_result"
    }
   ],
   "source": [
    "from IPython.display import HTML\n",
    "HTML(open('../style.css', 'r').read())"
   ]
  },
  {
   "cell_type": "markdown",
   "metadata": {},
   "source": [
    "# The Zebra Puzzle"
   ]
  },
  {
   "cell_type": "markdown",
   "metadata": {},
   "source": [
    "The following puzzle appeared in the magazine *Life International* on the 17th of December in the year 1962:\n",
    "<ol>\n",
    "    <li>There are five houses.</li>\n",
    "    <li>The Englishman lives in the red house.</li>\n",
    "    <li>The Spaniard owns the dog.</li>\n",
    "    <li>Coffee is drunk in the green house.</li>\n",
    "    <li>The Ukrainian drinks tea.</li>\n",
    "    <li>The green house is immediately to the right of the ivory house.</li>\n",
    "    <li>The Old Gold smoker owns snails.</li>\n",
    "    <li>Kools are smoked in the yellow house.</li>\n",
    "    <li>Milk is drunk in the middle house.</li>\n",
    "    <li>The Norwegian lives in the first house.</li>\n",
    "    <li>The man who smokes Chesterfields lives in the house next to the man with the fox.</li>\n",
    "    <li>Kools are smoked in the house next to the house where the horse is kept.</li>\n",
    "    <li>The Lucky Strike smoker drinks orange juice.</li>\n",
    "    <li>The Japanese smokes Parliaments.</li>\n",
    "    <li>The Norwegian lives next to the blue house.</li>\n",
    "</ol>\n",
    "Furthermore, each of the five houses is painted in a different colour, their inhabitants are of different nationalities, own different pets, drink different beverages, and smoke different brands of cigarettes.\n",
    "\n",
    "Your task is to write a program that answers the following questions: \n",
    "<ul>\n",
    "    <li><b>Who drinks water?</b></li>\n",
    "    <li><b>Who owns the zebra?</b></li>\n",
    "</ul>"
   ]
  },
  {
   "cell_type": "markdown",
   "metadata": {},
   "source": [
    "First, we have to import the CSP solver."
   ]
  },
  {
   "cell_type": "code",
   "execution_count": 2,
   "metadata": {},
   "outputs": [],
   "source": [
    "%run 02-Backtracking-Constraint-Solver.ipynb"
   ]
  },
  {
   "cell_type": "markdown",
   "metadata": {},
   "source": [
    "In order to succinctly express the constraints that all houses have different colours, the inhabitants have different nationalities etc., it is convenient to implement a function $\\texttt{allDifferent}(V)$ that takes a set of variables $V$ and returns a set of formulas that is true if and only if all the variables from $V$ have different values."
   ]
  },
  {
   "cell_type": "code",
   "execution_count": 3,
   "metadata": {},
   "outputs": [],
   "source": [
    "def allDifferent(Variables):\n",
    "    return { f'{x} != {y}' for x in Variables\n",
    "                           for y in Variables\n",
    "                           if  x < y\n",
    "           }"
   ]
  },
  {
   "cell_type": "code",
   "execution_count": 4,
   "metadata": {},
   "outputs": [
    {
     "data": {
      "text/plain": [
       "{'x != y', 'x != z', 'y != z'}"
      ]
     },
     "execution_count": 4,
     "metadata": {},
     "output_type": "execute_result"
    }
   ],
   "source": [
    "allDifferent(['x', 'y', 'z'])"
   ]
  },
  {
   "cell_type": "markdown",
   "metadata": {},
   "source": [
    "The function `next_to` takes two variables representing properties as inputs.\n",
    "It returns a set of formulas that is true if the houses having these properties\n",
    "are next to each other."
   ]
  },
  {
   "cell_type": "code",
   "execution_count": 5,
   "metadata": {},
   "outputs": [],
   "source": [
    "def next_to(x, y):\n",
    "    \"your code here\""
   ]
  },
  {
   "cell_type": "code",
   "execution_count": null,
   "metadata": {},
   "outputs": [],
   "source": [
    "next_to('Chesterfields', 'Fox')"
   ]
  },
  {
   "cell_type": "markdown",
   "metadata": {},
   "source": [
    "The function $\\texttt{zebraCSP}()$ returns a CSP that codes the zebra problem.  When implementing this function it is important to order the variables in a way that variables that are connected to each other by a constraint are tried in succession, for otherwise the CSP solver will take mu$\\cdots$uch longer."
   ]
  },
  {
   "cell_type": "code",
   "execution_count": null,
   "metadata": {},
   "outputs": [],
   "source": [
    "Nations   = { \"English\", \"Spanish\", \"Ukrainian\", \"Norwegian\", \"Japanese\" }\n",
    "Drinks    = { \"Coffee\" , \"Tea\", \"Milk\", \"OrangeJuice\", \"Water\" }\n",
    "Pets      = { \"Dog\", \"Snails\", \"Horse\", \"Fox\", \"Zebra\" }\n",
    "Brands    = { \"LuckyStrike\", \"Parliaments\", \"Kools\", \"Chesterfields\", \"OldGold\" }\n",
    "Colours   = { \"Red\", \"Green\", \"Ivory\", \"Yellow\", \"Blue\" }"
   ]
  },
  {
   "cell_type": "code",
   "execution_count": null,
   "metadata": {},
   "outputs": [],
   "source": [
    "def zebraCSP(): \n",
    "    # Each of the five houses is painted in a different colour, \n",
    "    # their inhabitants are of different nationalities, own different pets, \n",
    "    # drink different beverages, and smoke different brands of cigarettes.\n",
    "    \"your code here\"\n",
    "    # There are five houses\n",
    "    Values = { 1, 2, 3, 4, 5 }\n",
    "    # The Englishman lives in the red house.\n",
    "    Constraints |= \"your code here\"\n",
    "    # The Spaniard owns the dog.\n",
    "    Constraints |= \"your code here\"\n",
    "    # Coffee is drunk in the green house.\n",
    "    Constraints |= \"your code here\"\n",
    "    # The Ukrainian drinks tea.\n",
    "    Constraints |= \"your code here\"\n",
    "    # The green house is immediately to the right of the ivory house.\n",
    "    Constraints |= \"your code here\"\n",
    "    # The Old Gold smoker owns snails.\n",
    "    Constraints |= \"your code here\"\n",
    "    # Kools are smoked in the yellow house.\n",
    "    Constraints |= \"your code here\"\n",
    "    # Milk is drunk in the middle house.\n",
    "    Constraints |= \"your code here\"\n",
    "    # The Norwegian lives in the first house.\n",
    "    Constraints |= \"your code here\"\n",
    "    # The man who smokes Chesterfields lives in the house next to the man with the fox.\n",
    "    Constraints |= \"your code here\"\n",
    "    # Kools are smoked in the house next to the house where the horse is kept.\n",
    "    Constraints |= \"your code here\"\n",
    "    # The Lucky Strike smoker drinks orange juice.\n",
    "    Constraints |= \"your code here\"\n",
    "    # The Japanese smokes Parliaments.\n",
    "    Constraints |= \"your code here\"\n",
    "    # The Norwegian lives next to the blue house.\n",
    "    Constraints |= \"your code here\"\n",
    "    Variables = [\"your code here\"]\n",
    "    return Variables, Values, Constraints"
   ]
  },
  {
   "cell_type": "code",
   "execution_count": null,
   "metadata": {},
   "outputs": [],
   "source": [
    "zebra = zebraCSP()"
   ]
  },
  {
   "cell_type": "code",
   "execution_count": null,
   "metadata": {},
   "outputs": [],
   "source": [
    "zebra"
   ]
  },
  {
   "cell_type": "markdown",
   "metadata": {},
   "source": [
    "When the variables are ordered in a sensible way, the problem can be solved in less than a second.  If the variables are ordered randomly, you can expect your computaion to take several minutes."
   ]
  },
  {
   "cell_type": "code",
   "execution_count": null,
   "metadata": {},
   "outputs": [],
   "source": [
    "%%time\n",
    "solution = solve(zebra)"
   ]
  },
  {
   "cell_type": "code",
   "execution_count": null,
   "metadata": {},
   "outputs": [],
   "source": [
    "solution"
   ]
  },
  {
   "cell_type": "markdown",
   "metadata": {},
   "source": [
    "## Functions to Print the Solution"
   ]
  },
  {
   "cell_type": "code",
   "execution_count": null,
   "metadata": {},
   "outputs": [],
   "source": [
    "from IPython.display import HTML"
   ]
  },
  {
   "cell_type": "code",
   "execution_count": null,
   "metadata": {},
   "outputs": [],
   "source": [
    "def showHTML(Solution):\n",
    "    result  = '<table style=\"border:2px solid blue\">\\n'\n",
    "    result += '<tr>'\n",
    "    for name in ['House', 'Nationality',  'Drink', 'Animal', 'Brand', 'Colour']:\n",
    "        result += '<th style=\"color:gold; background-color:blue\">' + name + '</th>'\n",
    "    result += '</tr>\\n'\n",
    "    for chair in range(1, 5+1):\n",
    "        result += '<tr><td style=\"border:1px solid green\">' + str(chair) + '</td>'\n",
    "        for Class in [Nations, Drinks, Pets, Brands, Colours]:\n",
    "            for x in Class:\n",
    "                if Solution[x] == chair:\n",
    "                    result += '<td  style=\"border:1px solid green\">' + x + '</td>'\n",
    "        result += '</tr>\\n'\n",
    "    result += '</table>'\n",
    "    display(HTML(result))"
   ]
  },
  {
   "cell_type": "code",
   "execution_count": null,
   "metadata": {},
   "outputs": [],
   "source": [
    "showHTML(solution)"
   ]
  },
  {
   "cell_type": "markdown",
   "metadata": {},
   "source": [
    "## Checking the Uniqueness"
   ]
  },
  {
   "cell_type": "markdown",
   "metadata": {},
   "source": [
    "The function `negateSolution` takes a dictionary that represents a solution and returns a formula\n",
    "that is true iff one of the variables is different than in the solution."
   ]
  },
  {
   "cell_type": "code",
   "execution_count": null,
   "metadata": {},
   "outputs": [],
   "source": [
    "def negateSolution(Solution):\n",
    "    return ' or '.join([ f'{var} != {Solution[var]}' for var in Solution])"
   ]
  },
  {
   "cell_type": "code",
   "execution_count": null,
   "metadata": {},
   "outputs": [],
   "source": [
    "negateSolution(solution)"
   ]
  },
  {
   "cell_type": "markdown",
   "metadata": {},
   "source": [
    "The function `checkUniqueness` takes two arguments:\n",
    "* `Solution` is a solution of `CSP`.\n",
    "* `CSP` is a *constraint satisfaction problem*.\n",
    "\n",
    "It tries to compute a new solution for the constraint satisfaction problem that is different from the given solution."
   ]
  },
  {
   "cell_type": "code",
   "execution_count": null,
   "metadata": {},
   "outputs": [],
   "source": [
    "def checkUniqueness(Solution, CSP):\n",
    "    Vars, Values, Constraints = CSP\n",
    "    NewCSP = Vars, Values, Constraints | { negateSolution(Solution) }\n",
    "    NewSolution = solve(NewCSP)\n",
    "    if NewSolution:\n",
    "        print('The solution is not unique. The alternative solution is:')\n",
    "        showHTML(NewSolution)\n",
    "        return NewSolution\n",
    "    else:\n",
    "        print('Well done! The solution is unique.')"
   ]
  },
  {
   "cell_type": "code",
   "execution_count": null,
   "metadata": {},
   "outputs": [],
   "source": [
    "%%time \n",
    "checkUniqueness(solution, zebra)"
   ]
  }
 ],
 "metadata": {
  "hide_input": false,
  "kernelspec": {
   "display_name": "Python 3",
   "language": "python",
   "name": "python3"
  },
  "language_info": {
   "codemirror_mode": {
    "name": "ipython",
    "version": 3
   },
   "file_extension": ".py",
   "mimetype": "text/x-python",
   "name": "python",
   "nbconvert_exporter": "python",
   "pygments_lexer": "ipython3",
   "version": "3.13.3"
  },
  "toc": {
   "base_numbering": 1,
   "nav_menu": {},
   "number_sections": true,
   "sideBar": true,
   "skip_h1_title": false,
   "title_cell": "Table of Contents",
   "title_sidebar": "Contents",
   "toc_cell": false,
   "toc_position": {},
   "toc_section_display": true,
   "toc_window_display": false
  },
  "varInspector": {
   "cols": {
    "lenName": 16,
    "lenType": 16,
    "lenVar": 40
   },
   "kernels_config": {
    "python": {
     "delete_cmd_postfix": "",
     "delete_cmd_prefix": "del ",
     "library": "var_list.py",
     "varRefreshCmd": "print(var_dic_list())"
    },
    "r": {
     "delete_cmd_postfix": ") ",
     "delete_cmd_prefix": "rm(",
     "library": "var_list.r",
     "varRefreshCmd": "cat(var_dic_list()) "
    }
   },
   "types_to_exclude": [
    "module",
    "function",
    "builtin_function_or_method",
    "instance",
    "_Feature"
   ],
   "window_display": false
  }
 },
 "nbformat": 4,
 "nbformat_minor": 4
}
