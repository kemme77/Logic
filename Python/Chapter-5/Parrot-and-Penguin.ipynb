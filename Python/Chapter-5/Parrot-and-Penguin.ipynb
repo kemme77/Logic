{
 "cells": [
  {
   "cell_type": "code",
   "execution_count": null,
   "id": "eb23f94b",
   "metadata": {},
   "outputs": [],
   "source": [
    "from IPython.display import HTML\n",
    "HTML(open('../style.css', 'r').read())"
   ]
  },
  {
   "cell_type": "markdown",
   "id": "db7d38ac",
   "metadata": {},
   "source": [
    "# Introducing Z3\n",
    "\n",
    "In this notebook we are going to solve the following exercise using the constraint solver `Z3`.\n",
    "\n",
    "- A Japanese deli offers both\n",
    "  [penguins](https://www.discovermagazine.com/health/hearty-penguin-steaks-the-old-school-explorers-salve-for-scurvy)\n",
    "     and [parrots](http://fancytoast.blogspot.com/2007/04/parrot-three-ways.html). \n",
    "- A parrot and a penguin together cost 666 bucks.\n",
    "- The penguin costs 600 dollars more than the parrot.\n",
    "- **What is the price of the parrot?**"
   ]
  },
  {
   "cell_type": "markdown",
   "id": "7d71ee68",
   "metadata": {},
   "source": [
    "The following command installs `Z3`."
   ]
  },
  {
   "cell_type": "code",
   "execution_count": 1,
   "id": "b07bb0f0",
   "metadata": {},
   "outputs": [
    {
     "name": "stdout",
     "output_type": "stream",
     "text": [
      "Collecting z3-solver\n",
      "  Downloading z3_solver-4.15.0.0-py3-none-win_amd64.whl.metadata (778 bytes)\n",
      "Downloading z3_solver-4.15.0.0-py3-none-win_amd64.whl (16.4 MB)\n",
      "   ---------------------------------------- 0.0/16.4 MB ? eta -:--:--\n",
      "   --- ------------------------------------ 1.6/16.4 MB 8.3 MB/s eta 0:00:02\n",
      "   -------- ------------------------------- 3.7/16.4 MB 9.3 MB/s eta 0:00:02\n",
      "   --------------- ------------------------ 6.6/16.4 MB 10.8 MB/s eta 0:00:01\n",
      "   ------------------------- -------------- 10.5/16.4 MB 12.8 MB/s eta 0:00:01\n",
      "   ------------------------------------ --- 14.9/16.4 MB 14.5 MB/s eta 0:00:01\n",
      "   ---------------------------------------- 16.4/16.4 MB 14.7 MB/s eta 0:00:00\n",
      "Installing collected packages: z3-solver\n",
      "Successfully installed z3-solver-4.15.0.0\n"
     ]
    },
    {
     "name": "stderr",
     "output_type": "stream",
     "text": [
      "\n",
      "[notice] A new release of pip is available: 25.0.1 -> 25.1.1\n",
      "[notice] To update, run: python.exe -m pip install --upgrade pip\n"
     ]
    }
   ],
   "source": [
    "!pip install z3-solver"
   ]
  },
  {
   "cell_type": "markdown",
   "id": "c4bbf097",
   "metadata": {},
   "source": [
    "Next, we import the Python API of `Z3`. "
   ]
  },
  {
   "cell_type": "code",
   "execution_count": 3,
   "id": "174da55b",
   "metadata": {},
   "outputs": [],
   "source": [
    "import z3"
   ]
  },
  {
   "cell_type": "markdown",
   "id": "7337a62e",
   "metadata": {},
   "source": [
    "In `Z3`, every variable has to be declared.  In this case, all our variables are integer valued.  The function `Int(v)` declares a variable with the name `v`.\n",
    "We will use two variables:\n",
    " - `parrot` is the price of the parrot,\n",
    " - `penguin` is the price of the penguin."
   ]
  },
  {
   "cell_type": "code",
   "execution_count": 5,
   "id": "da6dd4d0",
   "metadata": {},
   "outputs": [],
   "source": [
    "parrot  = z3.Int(\"parrot\")\n",
    "penguin = z3.Int(\"penguin\")"
   ]
  },
  {
   "cell_type": "markdown",
   "id": "c2625602",
   "metadata": {},
   "source": [
    "Next, we create a *solver* object."
   ]
  },
  {
   "cell_type": "code",
   "execution_count": 6,
   "id": "211739d3",
   "metadata": {},
   "outputs": [],
   "source": [
    "S = z3.Solver()"
   ]
  },
  {
   "cell_type": "markdown",
   "id": "da3792d0",
   "metadata": {},
   "source": [
    "We can add constraints to this solver object via the method `add`.  We have two constraints:\n",
    "* A parrot and a penguin together cost 666 bucks.\n",
    "* The penguin costs 600 dollars more than the parrot."
   ]
  },
  {
   "cell_type": "code",
   "execution_count": 12,
   "id": "60da9c3e",
   "metadata": {},
   "outputs": [],
   "source": [
    "\n",
    "S.add(parrot + penguin == 666)\n",
    "S.add(penguin == parrot + 600)"
   ]
  },
  {
   "cell_type": "markdown",
   "id": "b5c45e51",
   "metadata": {},
   "source": [
    "The method `check` examines whether the given set of constraints is satisfiable.\n",
    "In general, it can return one of the following results:\n",
    "- `sat`   is returned if the problem is solvable, (`sat` is short for *satisfiable*)\n",
    "- `unsat` is returned if the problem is unsatisfiable,\n",
    "- `unknown` is returned if the constraint solver is not powerful enough to solve the given problem."
   ]
  },
  {
   "cell_type": "code",
   "execution_count": 13,
   "id": "ae45fd4e",
   "metadata": {},
   "outputs": [],
   "source": [
    "result = str(S.check())\n",
    "if result == z3.sat:\n",
    "    print(\"satisfiable\")"
   ]
  },
  {
   "cell_type": "markdown",
   "id": "a30cfba0",
   "metadata": {},
   "source": [
    "To extract the solution of the given problem we use the method `model`."
   ]
  },
  {
   "cell_type": "code",
   "execution_count": 14,
   "id": "95f5b419",
   "metadata": {},
   "outputs": [
    {
     "data": {
      "text/html": [
       "[parrot = 33, penguin = 633]"
      ],
      "text/plain": [
       "[parrot = 33, penguin = 633]"
      ]
     },
     "execution_count": 14,
     "metadata": {},
     "output_type": "execute_result"
    }
   ],
   "source": [
    "Solution = S.model()\n",
    "Solution"
   ]
  },
  {
   "cell_type": "markdown",
   "id": "dacb4a28",
   "metadata": {},
   "source": [
    "In order to extract the price of the parrot and the price of the penguin we can use the dictionary syntax\n",
    "`solution[parrot]` and `solution[penguin]`.  In order to convert these results into \n",
    "Python integers, we use the method `as_long`."
   ]
  },
  {
   "cell_type": "code",
   "execution_count": 21,
   "id": "7406526d",
   "metadata": {},
   "outputs": [],
   "source": [
    "p = Solution[parrot].as_long()\n",
    "q = Solution[penguin].as_long()"
   ]
  },
  {
   "cell_type": "code",
   "execution_count": 22,
   "id": "e1f0f5eb",
   "metadata": {},
   "outputs": [
    {
     "name": "stdout",
     "output_type": "stream",
     "text": [
      "The price of the parrot is 33 bucks.\n"
     ]
    }
   ],
   "source": [
    "print(f'The price of the parrot is {p} bucks.')"
   ]
  },
  {
   "cell_type": "code",
   "execution_count": null,
   "id": "8596c24c",
   "metadata": {},
   "outputs": [],
   "source": []
  }
 ],
 "metadata": {
  "kernelspec": {
   "display_name": "Python 3",
   "language": "python",
   "name": "python3"
  },
  "language_info": {
   "codemirror_mode": {
    "name": "ipython",
    "version": 3
   },
   "file_extension": ".py",
   "mimetype": "text/x-python",
   "name": "python",
   "nbconvert_exporter": "python",
   "pygments_lexer": "ipython3",
   "version": "3.13.3"
  }
 },
 "nbformat": 4,
 "nbformat_minor": 5
}
