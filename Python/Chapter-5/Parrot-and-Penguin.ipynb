{
 "cells": [
  {
   "cell_type": "code",
   "execution_count": 2,
   "id": "eb23f94b",
   "metadata": {},
   "outputs": [
    {
     "data": {
      "text/html": [
       "<link href='http://fonts.googleapis.com/css?family=Alegreya+Sans:100,300,400,500,700,800,900,100italic,300italic,400italic,500italic,700italic,800italic,900italic' rel='stylesheet' type='text/css'>\n",
       "<link href='http://fonts.googleapis.com/css?family=Arvo:400,700,400italic' rel='stylesheet' type='text/css'>\n",
       "<link href='http://fonts.googleapis.com/css?family=PT+Mono' rel='stylesheet' type='text/css'>\n",
       "<link href='http://fonts.googleapis.com/css?family=Shadows+Into+Light' rel='stylesheet' type='text/css'>\n",
       "<link href='http://fonts.googleapis.com/css?family=Philosopher:400,700,400italic,700italic' rel='stylesheet' type='text/css'>\n",
       "<link href=\"http://fonts.googleapis.com/css?family=Sacramento\" rel=\"stylesheet\" type=\"text/css\">\n",
       "\n",
       "<style>\n",
       "\n",
       "@font-face {\n",
       "    font-family: \"Computer Modern\";\n",
       "    src: url('http://mirrors.ctan.org/fonts/cm-unicode/fonts/otf/cmunss.otf');\n",
       "}\n",
       "\n",
       ".container { width: 100% }\n",
       "\n",
       "/* Formatting for header cells */\n",
       ".text_cell_render h1 {\n",
       "    font-family: 'Philosopher', sans-serif;\n",
       "    font-weight: 400;\n",
       "    font-size: 2.2em;\n",
       "    line-height: 100%;\n",
       "    color: rgb(0, 80, 120);\n",
       "    margin-bottom: 0.1em;\n",
       "    margin-top: 0.1em;\n",
       "    display: block;\n",
       "}\t\n",
       ".text_cell_render h2 {\n",
       "    font-family: 'Philosopher', serif;\n",
       "    font-weight: 400;\n",
       "    font-size: 1.9em;\n",
       "    line-height: 100%;\n",
       "    color: rgb(200,100,0);\n",
       "    margin-bottom: 0.1em;\n",
       "    margin-top: 0.1em;\n",
       "    display: block;\n",
       "}\t\n",
       "\n",
       ".text_cell_render h3 {\n",
       "    font-family: 'Philosopher', serif;\n",
       "    margin-top:12px;\n",
       "    margin-bottom: 3px;\n",
       "    font-style: italic;\n",
       "    color: rgb(94,127,192);\n",
       "}\n",
       "\n",
       ".text_cell_render h4 {\n",
       "    font-family: 'Philosopher', serif;\n",
       "}\n",
       "\n",
       ".text_cell_render h5 {\n",
       "    font-family: 'Alegreya Sans', sans-serif;\n",
       "    font-weight: 300;\n",
       "    font-size: 16pt;\n",
       "    color: grey;\n",
       "    font-style: italic;\n",
       "    margin-bottom: .1em;\n",
       "    margin-top: 0.1em;\n",
       "    display: block;\n",
       "}\n",
       "\n",
       ".text_cell_render h6 {\n",
       "    font-family: 'PT Mono', sans-serif;\n",
       "    font-weight: 300;\n",
       "    font-size: 10pt;\n",
       "    color: grey;\n",
       "    margin-bottom: 1px;\n",
       "    margin-top: 1px;\n",
       "}\n",
       "\n",
       ".text_cell_render em {\n",
       "    font-family: 'Philosopher', sans-serif;\n",
       "    color:        blue;\n",
       "    background-color: rgb(255,220,180);\n",
       "    font-size:    110%;\n",
       "    margin-left:   2px;\n",
       "    margin-right:  2px;\n",
       "    font-weight:   100;\n",
       "}\n",
       "\n",
       ".text_cell_render b {\n",
       "    color:            rgb(255,195,195);\n",
       "    background-color: rgb(0,0,0);\n",
       "    font-size:    110%;\n",
       "    margin-left:   2px;\n",
       "    margin-right:  2px;\n",
       "    font-weight:   650;\n",
       "}\n",
       "\n",
       ".text_cell_render u {\n",
       "    color:            blue;\n",
       "    font-size:    110%;\n",
       "    margin-left:   2px;\n",
       "    margin-right:  2px;\n",
       "    font-weight:   650;\n",
       "}\n",
       "\n",
       ".text_cell_render tt {\n",
       "    font-size:    120%;\n",
       "    margin-left:   2px;\n",
       "    margin-right:  2px;\n",
       "    font-weight:   150;\n",
       "}\n",
       "\n",
       ".Codemirror {\n",
       "    font-family: \"PT Mono\";\n",
       "    font-size: 100%;\n",
       "}\n",
       "\n",
       "#fancy {\n",
       "    font-family:      Georgia;\n",
       "    position:         relative;\n",
       "    float:            left;\n",
       "    border:           2px solid red;\n",
       "    width:            600px;\n",
       "    padding-left:     20px;\n",
       "    padding-right:    20px;\n",
       "    padding-top:      10px;\n",
       "    font-family:      'Sacramento', cursive;\n",
       "    font-size:        26px;\n",
       "    background-color: #F4EBF3;\n",
       "    border-radius:    15px;\n",
       "}\n",
       "\n",
       "</Style>\n",
       "\n"
      ],
      "text/plain": [
       "<IPython.core.display.HTML object>"
      ]
     },
     "execution_count": 2,
     "metadata": {},
     "output_type": "execute_result"
    }
   ],
   "source": [
    "from IPython.display import HTML\n",
    "HTML(open('../style.css', 'r').read())"
   ]
  },
  {
   "cell_type": "markdown",
   "id": "db7d38ac",
   "metadata": {},
   "source": [
    "# Introducing Z3\n",
    "\n",
    "In this notebook we are going to solve the following exercise using the constraint solver `Z3`.\n",
    "\n",
    "- A Japanese deli offers both\n",
    "  [penguins](https://www.discovermagazine.com/health/hearty-penguin-steaks-the-old-school-explorers-salve-for-scurvy)\n",
    "     and [parrots](http://fancytoast.blogspot.com/2007/04/parrot-three-ways.html). \n",
    "- A parrot and a penguin together cost 666 bucks.\n",
    "- The penguin costs 600 dollars more than the parrot.\n",
    "- **What is the price of the parrot?**"
   ]
  },
  {
   "cell_type": "markdown",
   "id": "7d71ee68",
   "metadata": {},
   "source": [
    "The following command installs `Z3`."
   ]
  },
  {
   "cell_type": "code",
   "execution_count": 3,
   "id": "b07bb0f0",
   "metadata": {},
   "outputs": [
    {
     "name": "stdout",
     "output_type": "stream",
     "text": [
      "Defaulting to user installation because normal site-packages is not writeable\n",
      "Collecting z3-solver\n",
      "  Downloading z3_solver-4.15.1.0-py3-none-win_amd64.whl.metadata (778 bytes)\n",
      "Downloading z3_solver-4.15.1.0-py3-none-win_amd64.whl (16.4 MB)\n",
      "   ---------------------------------------- 0.0/16.4 MB ? eta -:--:--\n",
      "   --- ------------------------------------ 1.3/16.4 MB 7.2 MB/s eta 0:00:03\n",
      "   ------ --------------------------------- 2.6/16.4 MB 6.7 MB/s eta 0:00:03\n",
      "   ---------- ----------------------------- 4.2/16.4 MB 7.2 MB/s eta 0:00:02\n",
      "   -------------- ------------------------- 5.8/16.4 MB 7.3 MB/s eta 0:00:02\n",
      "   ------------------ --------------------- 7.6/16.4 MB 7.4 MB/s eta 0:00:02\n",
      "   --------------------- ------------------ 8.9/16.4 MB 7.3 MB/s eta 0:00:02\n",
      "   ------------------------- -------------- 10.5/16.4 MB 7.3 MB/s eta 0:00:01\n",
      "   ---------------------------- ----------- 11.8/16.4 MB 7.3 MB/s eta 0:00:01\n",
      "   --------------------------------- ------ 13.6/16.4 MB 7.3 MB/s eta 0:00:01\n",
      "   ------------------------------------ --- 14.9/16.4 MB 7.3 MB/s eta 0:00:01\n",
      "   ---------------------------------------- 16.4/16.4 MB 7.2 MB/s eta 0:00:00\n",
      "Installing collected packages: z3-solver\n",
      "Successfully installed z3-solver-4.15.1.0\n"
     ]
    },
    {
     "name": "stderr",
     "output_type": "stream",
     "text": [
      "\n",
      "[notice] A new release of pip is available: 24.3.1 -> 25.1.1\n",
      "[notice] To update, run: python.exe -m pip install --upgrade pip\n"
     ]
    }
   ],
   "source": [
    "!pip install z3-solver"
   ]
  },
  {
   "cell_type": "markdown",
   "id": "c4bbf097",
   "metadata": {},
   "source": [
    "Next, we import the Python API of `Z3`. "
   ]
  },
  {
   "cell_type": "code",
   "execution_count": 4,
   "id": "174da55b",
   "metadata": {},
   "outputs": [],
   "source": [
    "import z3"
   ]
  },
  {
   "cell_type": "markdown",
   "id": "7337a62e",
   "metadata": {},
   "source": [
    "In `Z3`, every variable has to be declared.  In this case, all our variables are integer valued.  The function `Int(v)` declares a variable with the name `v`.\n",
    "We will use two variables:\n",
    " - `parrot` is the price of the parrot,\n",
    " - `penguin` is the price of the penguin."
   ]
  },
  {
   "cell_type": "code",
   "execution_count": 6,
   "id": "da6dd4d0",
   "metadata": {},
   "outputs": [],
   "source": [
    "parrot  = z3.Int('parrot')\n",
    "penguin = z3.Int('penguin')"
   ]
  },
  {
   "cell_type": "markdown",
   "id": "c2625602",
   "metadata": {},
   "source": [
    "Next, we create a *solver* object."
   ]
  },
  {
   "cell_type": "code",
   "execution_count": 7,
   "id": "211739d3",
   "metadata": {},
   "outputs": [],
   "source": [
    "S = z3.Solver()"
   ]
  },
  {
   "cell_type": "markdown",
   "id": "da3792d0",
   "metadata": {},
   "source": [
    "We can add constraints to this solver object via the method `add`.  We have two constraints:\n",
    "* A parrot and a penguin together cost 666 bucks.\n",
    "* The penguin costs 600 dollars more than the parrot."
   ]
  },
  {
   "cell_type": "code",
   "execution_count": 8,
   "id": "60da9c3e",
   "metadata": {},
   "outputs": [],
   "source": [
    "S.add(parrot >= 0)\n",
    "S.add(penguin >= 0)\n",
    "S.add(parrot + penguin == 666)\n",
    "S.add(penguin == parrot + 600)"
   ]
  },
  {
   "cell_type": "markdown",
   "id": "b5c45e51",
   "metadata": {},
   "source": [
    "The method `check` examines whether the given set of constraints is satisfiable.\n",
    "In general, it can return one of the following results:\n",
    "- `sat`   is returned if the problem is solvable, (`sat` is short for *satisfiable*)\n",
    "- `unsat` is returned if the problem is unsatisfiable,\n",
    "- `unknown` is returned if the constraint solver is not powerful enough to solve the given problem."
   ]
  },
  {
   "cell_type": "code",
   "execution_count": 9,
   "id": "ae45fd4e",
   "metadata": {},
   "outputs": [
    {
     "data": {
      "text/html": [
       "<b>sat</b>"
      ],
      "text/plain": [
       "sat"
      ]
     },
     "execution_count": 9,
     "metadata": {},
     "output_type": "execute_result"
    }
   ],
   "source": [
    "S.check()"
   ]
  },
  {
   "cell_type": "markdown",
   "id": "a30cfba0",
   "metadata": {},
   "source": [
    "To extract the solution of the given problem we use the method `model`."
   ]
  },
  {
   "cell_type": "code",
   "execution_count": 10,
   "id": "95f5b419",
   "metadata": {},
   "outputs": [
    {
     "data": {
      "text/html": [
       "[penguin = 633, parrot = 33]"
      ],
      "text/plain": [
       "[penguin = 633, parrot = 33]"
      ]
     },
     "execution_count": 10,
     "metadata": {},
     "output_type": "execute_result"
    }
   ],
   "source": [
    "Solution = S.model()\n",
    "Solution"
   ]
  },
  {
   "cell_type": "markdown",
   "id": "dacb4a28",
   "metadata": {},
   "source": [
    "In order to extract the price of the parrot and the price of the penguin we can use the dictionary syntax\n",
    "`solution[parrot]` and `solution[penguin]`.  In order to convert these results into \n",
    "Python integers, we use the method `as_long`."
   ]
  },
  {
   "cell_type": "code",
   "execution_count": 11,
   "id": "7406526d",
   "metadata": {},
   "outputs": [],
   "source": [
    "p = Solution[parrot].as_long()"
   ]
  },
  {
   "cell_type": "code",
   "execution_count": 12,
   "id": "e1f0f5eb",
   "metadata": {},
   "outputs": [
    {
     "name": "stdout",
     "output_type": "stream",
     "text": [
      "The price of the parrot is 33 bucks.\n"
     ]
    }
   ],
   "source": [
    "print(f'The price of the parrot is {p} bucks.')"
   ]
  },
  {
   "cell_type": "code",
   "execution_count": null,
   "id": "8596c24c",
   "metadata": {},
   "outputs": [],
   "source": []
  }
 ],
 "metadata": {
  "kernelspec": {
   "display_name": "Python 3",
   "language": "python",
   "name": "python3"
  },
  "language_info": {
   "codemirror_mode": {
    "name": "ipython",
    "version": 3
   },
   "file_extension": ".py",
   "mimetype": "text/x-python",
   "name": "python",
   "nbconvert_exporter": "python",
   "pygments_lexer": "ipython3",
   "version": "3.13.2"
  }
 },
 "nbformat": 4,
 "nbformat_minor": 5
}
